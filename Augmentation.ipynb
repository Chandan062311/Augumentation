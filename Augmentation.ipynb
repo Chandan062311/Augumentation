{
  "cells": [
    {
      "cell_type": "markdown",
      "metadata": {
        "id": "view-in-github",
        "colab_type": "text"
      },
      "source": [
        "<a href=\"https://colab.research.google.com/github/Chandan062311/Augumentation/blob/main/Augmentation.ipynb\" target=\"_parent\"><img src=\"https://colab.research.google.com/assets/colab-badge.svg\" alt=\"Open In Colab\"/></a>"
      ]
    },
    {
      "cell_type": "code",
      "execution_count": null,
      "metadata": {
        "colab": {
          "base_uri": "https://localhost:8080/"
        },
        "id": "thZONEy13_mu",
        "outputId": "e7fab39a-767e-4c07-88f4-ffa757bad0fb"
      },
      "outputs": [
        {
          "name": "stdout",
          "output_type": "stream",
          "text": [
            "--2024-03-24 16:35:29--  https://storage.googleapis.com/tensorflow-1-public/course2/cats_and_dogs_filtered.zip\n",
            "Resolving storage.googleapis.com (storage.googleapis.com)... 209.85.200.207, 209.85.234.207, 142.251.180.207, ...\n",
            "Connecting to storage.googleapis.com (storage.googleapis.com)|209.85.200.207|:443... connected.\n",
            "HTTP request sent, awaiting response... 200 OK\n",
            "Length: 68606236 (65M) [application/zip]\n",
            "Saving to: ‘cats_and_dogs_filtered.zip’\n",
            "\n",
            "cats_and_dogs_filte 100%[===================>]  65.43M  54.7MB/s    in 1.2s    \n",
            "\n",
            "2024-03-24 16:35:31 (54.7 MB/s) - ‘cats_and_dogs_filtered.zip’ saved [68606236/68606236]\n",
            "\n"
          ]
        }
      ],
      "source": [
        "!wget https://storage.googleapis.com/tensorflow-1-public/course2/cats_and_dogs_filtered.zip\n"
      ]
    },
    {
      "cell_type": "code",
      "execution_count": null,
      "metadata": {
        "id": "e6awHJP64dVf"
      },
      "outputs": [],
      "source": [
        "import os\n",
        "import zipfile"
      ]
    },
    {
      "cell_type": "code",
      "execution_count": null,
      "metadata": {
        "id": "WbhHv0dL4keu"
      },
      "outputs": [],
      "source": [
        "zip_ref = zipfile.ZipFile(\"/content/cats_and_dogs_filtered.zip\",\"r\")\n",
        "zip_ref.extractall(\"tmp/\")\n",
        "zip_ref.close()"
      ]
    },
    {
      "cell_type": "code",
      "execution_count": null,
      "metadata": {
        "id": "fI_p6t9943l2"
      },
      "outputs": [],
      "source": [
        "base_dir = '/content/tmp/cats_and_dogs_filtered'\n",
        "train_dir = os.path.join(base_dir,'train')\n",
        "validation_dir = os.path.join(base_dir,'validation')"
      ]
    },
    {
      "cell_type": "code",
      "execution_count": null,
      "metadata": {
        "id": "X1pEQwwF5hIy"
      },
      "outputs": [],
      "source": [
        "train_cats_dir = os.path.join(train_dir,'cats')\n",
        "train_dogs_dir = os.path.join(train_dir,'dogs')"
      ]
    },
    {
      "cell_type": "code",
      "execution_count": null,
      "metadata": {
        "id": "4QkiVdNg5yVz"
      },
      "outputs": [],
      "source": [
        "validation_cats_dir = os.path.join(validation_dir,'cats')\n",
        "validation_dogs_dir = os.path.join(validation_dir,'dogs')"
      ]
    },
    {
      "cell_type": "code",
      "execution_count": null,
      "metadata": {
        "id": "RpKjmeC958On"
      },
      "outputs": [],
      "source": [
        "import tensorflow as tf\n",
        "from tensorflow.keras.optimizers import RMSprop"
      ]
    },
    {
      "cell_type": "code",
      "execution_count": null,
      "metadata": {
        "id": "2XRt3EaZAPng"
      },
      "outputs": [],
      "source": [
        "def create_model():\n",
        "  model=tf.keras.models.Sequential([\n",
        "      tf.keras.layers.Conv2D(32,(3,3),activation='relu',input_shape=(150,150,3)),\n",
        "      tf.keras.layers.MaxPooling2D(2,2),\n",
        "      tf.keras.layers.Conv2D(64,(3,3),activation='relu'),\n",
        "      tf.keras.layers.MaxPooling2D(2,2),\n",
        "      tf.keras.layers.Conv2D(128,(3,3),activation='relu'),\n",
        "      tf.keras.layers.MaxPooling2D(2,2),\n",
        "      tf.keras.layers.Conv2D(128,(3,3),activation='relu'),\n",
        "      tf.keras.layers.MaxPooling2D(2,2),\n",
        "      tf.keras.layers.Flatten(),\n",
        "      tf.keras.layers.Dense(512,activation='relu'),\n",
        "      tf.keras.layers.Dense(1,activation='sigmoid')\n",
        "\n",
        "  ])\n",
        "  model.compile(loss='binary_crossentropy',optimizer=RMSprop(learning_rate=1e-4),metrics=['accuracy'])\n",
        "  return model"
      ]
    },
    {
      "cell_type": "code",
      "execution_count": null,
      "metadata": {
        "id": "AIuu_dXXEK22"
      },
      "outputs": [],
      "source": [
        "from tensorflow.keras.preprocessing.image import ImageDataGenerator"
      ]
    },
    {
      "cell_type": "code",
      "execution_count": null,
      "metadata": {
        "id": "AZcoQxFlFVVF"
      },
      "outputs": [],
      "source": [
        "train_datagen = ImageDataGenerator(rescale=1./255,\n",
        "                                   rotation_range=40,\n",
        "                                   width_shift_range=0.2,\n",
        "                                   height_shift_range=0.2,\n",
        "                                   shear_range=0.2,\n",
        "                                   zoom_range=0.2,\n",
        "                                   horizontal_flip=True,\n",
        "                                   fill_mode='nearest'\n",
        "                                   )\n",
        "test_datagen = ImageDataGenerator(rescale=1./255,\n",
        "                                  rotation_range=40,\n",
        "                                   width_shift_range=0.2,\n",
        "                                   height_shift_range=0.2,\n",
        "                                   shear_range=0.2,\n",
        "                                   zoom_range=0.2,\n",
        "                                   horizontal_flip=True,\n",
        "                                   fill_mode='nearest')"
      ]
    },
    {
      "cell_type": "code",
      "execution_count": null,
      "metadata": {
        "colab": {
          "base_uri": "https://localhost:8080/"
        },
        "id": "6wcBfOxSFpCn",
        "outputId": "ecbde9d5-5350-40ad-9778-a65a602b0a51"
      },
      "outputs": [
        {
          "name": "stdout",
          "output_type": "stream",
          "text": [
            "Found 2000 images belonging to 2 classes.\n"
          ]
        }
      ],
      "source": [
        "train_generator = train_datagen.flow_from_directory(\n",
        "    train_dir,\n",
        "    target_size=(150,150),\n",
        "    batch_size=20,\n",
        "    class_mode = 'binary'\n",
        ")"
      ]
    },
    {
      "cell_type": "code",
      "execution_count": null,
      "metadata": {
        "colab": {
          "base_uri": "https://localhost:8080/"
        },
        "id": "yOPmAbTaGWoa",
        "outputId": "73e4826d-b513-480e-e709-5f32908949e7"
      },
      "outputs": [
        {
          "name": "stdout",
          "output_type": "stream",
          "text": [
            "Found 1000 images belonging to 2 classes.\n"
          ]
        }
      ],
      "source": [
        "validation_generator = test_datagen.flow_from_directory(\n",
        "    validation_dir,\n",
        "    target_size=(150,150),\n",
        "    batch_size=20,\n",
        "    class_mode = 'binary'\n",
        ")"
      ]
    },
    {
      "cell_type": "code",
      "execution_count": null,
      "metadata": {
        "id": "XI7qtBX8Gcjz"
      },
      "outputs": [],
      "source": [
        "EPOCHS = 20"
      ]
    },
    {
      "cell_type": "code",
      "execution_count": null,
      "metadata": {
        "id": "-fXNwQRNGhAW"
      },
      "outputs": [],
      "source": [
        "model = create_model()\n",
        "\n"
      ]
    },
    {
      "cell_type": "code",
      "execution_count": null,
      "metadata": {
        "colab": {
          "background_save": true,
          "base_uri": "https://localhost:8080/"
        },
        "id": "yAzXhCXLGkHE",
        "outputId": "7f2e5ee4-adbb-4e95-a90c-45102bc9c833"
      },
      "outputs": [
        {
          "name": "stdout",
          "output_type": "stream",
          "text": [
            "Epoch 1/20\n",
            "100/100 - 172s - loss: 0.6931 - accuracy: 0.4970 - val_loss: 0.6864 - val_accuracy: 0.5860 - 172s/epoch - 2s/step\n",
            "Epoch 2/20\n",
            "100/100 - 166s - loss: 0.6852 - accuracy: 0.5400 - val_loss: 0.6676 - val_accuracy: 0.5740 - 166s/epoch - 2s/step\n",
            "Epoch 3/20\n",
            "100/100 - 166s - loss: 0.6738 - accuracy: 0.5740 - val_loss: 0.6572 - val_accuracy: 0.6000 - 166s/epoch - 2s/step\n",
            "Epoch 4/20\n",
            "100/100 - 167s - loss: 0.6674 - accuracy: 0.5755 - val_loss: 0.6671 - val_accuracy: 0.5530 - 167s/epoch - 2s/step\n",
            "Epoch 5/20\n",
            "100/100 - 166s - loss: 0.6561 - accuracy: 0.5915 - val_loss: 0.6374 - val_accuracy: 0.6260 - 166s/epoch - 2s/step\n",
            "Epoch 6/20\n",
            "100/100 - 173s - loss: 0.6485 - accuracy: 0.6115 - val_loss: 0.6284 - val_accuracy: 0.6540 - 173s/epoch - 2s/step\n",
            "Epoch 7/20\n",
            "100/100 - 167s - loss: 0.6450 - accuracy: 0.6140 - val_loss: 0.6444 - val_accuracy: 0.6080 - 167s/epoch - 2s/step\n",
            "Epoch 8/20\n",
            "100/100 - 146s - loss: 0.6307 - accuracy: 0.6305 - val_loss: 0.6067 - val_accuracy: 0.6690 - 146s/epoch - 1s/step\n",
            "Epoch 9/20\n",
            "100/100 - 176s - loss: 0.6112 - accuracy: 0.6645 - val_loss: 0.6952 - val_accuracy: 0.5780 - 176s/epoch - 2s/step\n",
            "Epoch 10/20\n",
            "100/100 - 165s - loss: 0.6106 - accuracy: 0.6590 - val_loss: 0.6059 - val_accuracy: 0.6600 - 165s/epoch - 2s/step\n",
            "Epoch 11/20\n",
            "100/100 - 165s - loss: 0.6004 - accuracy: 0.6710 - val_loss: 0.5903 - val_accuracy: 0.6840 - 165s/epoch - 2s/step\n",
            "Epoch 12/20\n",
            "100/100 - 164s - loss: 0.6086 - accuracy: 0.6705 - val_loss: 0.6331 - val_accuracy: 0.6250 - 164s/epoch - 2s/step\n",
            "Epoch 13/20\n",
            "100/100 - 143s - loss: 0.5989 - accuracy: 0.6750 - val_loss: 0.5834 - val_accuracy: 0.6900 - 143s/epoch - 1s/step\n",
            "Epoch 14/20\n",
            "100/100 - 143s - loss: 0.5855 - accuracy: 0.6785 - val_loss: 0.5723 - val_accuracy: 0.6760 - 143s/epoch - 1s/step\n",
            "Epoch 15/20\n",
            "100/100 - 163s - loss: 0.5736 - accuracy: 0.6885 - val_loss: 0.5838 - val_accuracy: 0.6840 - 163s/epoch - 2s/step\n",
            "Epoch 16/20\n",
            "100/100 - 144s - loss: 0.5774 - accuracy: 0.7075 - val_loss: 0.5759 - val_accuracy: 0.6820 - 144s/epoch - 1s/step\n",
            "Epoch 17/20\n",
            "100/100 - 163s - loss: 0.5662 - accuracy: 0.7010 - val_loss: 0.6041 - val_accuracy: 0.6620 - 163s/epoch - 2s/step\n",
            "Epoch 18/20\n",
            "100/100 - 144s - loss: 0.5771 - accuracy: 0.6955 - val_loss: 0.5672 - val_accuracy: 0.6920 - 144s/epoch - 1s/step\n",
            "Epoch 19/20\n",
            "100/100 - 142s - loss: 0.5572 - accuracy: 0.7080 - val_loss: 0.6663 - val_accuracy: 0.6310 - 142s/epoch - 1s/step\n",
            "Epoch 20/20\n",
            "100/100 - 142s - loss: 0.5543 - accuracy: 0.7045 - val_loss: 0.5991 - val_accuracy: 0.6630 - 142s/epoch - 1s/step\n"
          ]
        }
      ],
      "source": [
        "history = model.fit(\n",
        "    train_generator,\n",
        "    steps_per_epoch=100,\n",
        "    epochs=EPOCHS,\n",
        "    validation_data = validation_generator,\n",
        "    validation_steps=50,\n",
        "    verbose=2\n",
        ")"
      ]
    },
    {
      "cell_type": "code",
      "execution_count": 18,
      "metadata": {
        "id": "4x3O4Ht2IAbf"
      },
      "outputs": [],
      "source": [
        "import matplotlib.pyplot as plt\n",
        "\n",
        "def plot_loss_acc(history):\n",
        "  '''Plots the training and validation loss and accuracy from a history object'''\n",
        "  acc = history.history['accuracy']\n",
        "  val_acc = history.history['val_accuracy']\n",
        "  loss = history.history['loss']\n",
        "  val_loss = history.history['val_loss']\n",
        "\n",
        "  epochs = range(len(acc))\n",
        "\n",
        "  plt.plot(epochs, acc, 'bo', label='Training accuracy')\n",
        "  plt.plot(epochs, val_acc, 'b', label='Validation accuracy')\n",
        "  plt.title('Training and validation accuracy')\n",
        "\n",
        "  plt.figure()\n",
        "\n",
        "  plt.plot(epochs, loss, 'bo', label='Training Loss')\n",
        "  plt.plot(epochs, val_loss, 'b', label='Validation Loss')\n",
        "  plt.title('Training and validation loss')\n",
        "  plt.legend()\n",
        "\n",
        "  plt.show()"
      ]
    }
  ],
  "metadata": {
    "accelerator": "TPU",
    "colab": {
      "provenance": [],
      "authorship_tag": "ABX9TyMZKrobyUDRmPeI78T8mecR",
      "include_colab_link": true
    },
    "kernelspec": {
      "display_name": "Python 3",
      "name": "python3"
    },
    "language_info": {
      "name": "python"
    }
  },
  "nbformat": 4,
  "nbformat_minor": 0
}